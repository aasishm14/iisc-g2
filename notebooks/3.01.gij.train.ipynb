{
 "cells": [
  {
   "cell_type": "code",
   "execution_count": 1,
   "metadata": {},
   "outputs": [
    {
     "name": "stderr",
     "output_type": "stream",
     "text": [
      "\u001b[32m2024-11-15 07:57:40.024\u001b[0m | \u001b[1mINFO    \u001b[0m | \u001b[36mhealth.config\u001b[0m:\u001b[36m<module>\u001b[0m:\u001b[36m11\u001b[0m - \u001b[1mPROJ_ROOT path is: /Users/ceegees/workspace/iisc-learning/are-you-depressed\u001b[0m\n"
     ]
    },
    {
     "ename": "SyntaxError",
     "evalue": "unterminated string literal (detected at line 92) (utils.py, line 92)",
     "output_type": "error",
     "traceback": [
      "Traceback \u001b[0;36m(most recent call last)\u001b[0m:\n",
      "\u001b[0m  File \u001b[1;32m~/workspace/iisc-learning/.venv/lib/python3.12/site-packages/IPython/core/interactiveshell.py:3577\u001b[0m in \u001b[1;35mrun_code\u001b[0m\n    exec(code_obj, self.user_global_ns, self.user_ns)\u001b[0m\n",
      "\u001b[0;36m  Cell \u001b[0;32mIn[1], line 9\u001b[0;36m\n\u001b[0;31m    from health.utils import load_trimaing_data, column_encoder\u001b[0;36m\n",
      "\u001b[0;36m  File \u001b[0;32m~/workspace/iisc-learning/are-you-depressed/health/utils.py:92\u001b[0;36m\u001b[0m\n\u001b[0;31m    'Have you ever had suicidal thoughts ?:str, # Data  is clean\u001b[0m\n\u001b[0m    ^\u001b[0m\n\u001b[0;31mSyntaxError\u001b[0m\u001b[0;31m:\u001b[0m unterminated string literal (detected at line 92)\n"
     ]
    }
   ],
   "source": [
    "import pandas  as pd\n",
    "import matplotlib.pyplot as plt\n",
    "import numpy as np\n",
    "\n",
    "\n",
    "from sklearn.metrics import classification_report\n",
    "from sklearn.model_selection import train_test_split\n",
    "from sklearn.linear_model import LogisticRegression\n",
    "from health.utils import load_trimaing_data, column_encoder\n",
    "from joblib import dump\n",
    "\n",
    "\n",
    "df = load_trimaing_data()\n",
    "df = df.reset_index(drop=True)\n",
    "df.set_index(['id'])\n",
    "\n",
    "\n",
    "col_len = len(df.columns.to_list())\n",
    "X = df.iloc[:,1:col_len -1]\n",
    "Y = df.iloc[:,col_len-1:]\n",
    "\n"
   ]
  },
  {
   "cell_type": "code",
   "execution_count": 12,
   "metadata": {},
   "outputs": [
    {
     "name": "stderr",
     "output_type": "stream",
     "text": [
      "/Users/ceegees/workspace/iisc-learning/.venv/lib/python3.12/site-packages/sklearn/utils/validation.py:1339: DataConversionWarning: A column-vector y was passed when a 1d array was expected. Please change the shape of y to (n_samples, ), for example using ravel().\n",
      "  y = column_or_1d(y, warn=True)\n"
     ]
    },
    {
     "name": "stdout",
     "output_type": "stream",
     "text": [
      "              precision    recall  f1-score   support\n",
      "\n",
      "           0       0.92      0.96      0.94     25553\n",
      "           1       0.77      0.64      0.70      5697\n",
      "\n",
      "    accuracy                           0.90     31250\n",
      "   macro avg       0.84      0.80      0.82     31250\n",
      "weighted avg       0.89      0.90      0.89     31250\n",
      "\n"
     ]
    }
   ],
   "source": [
    "\n",
    "# Transform the data\n",
    "X_encoded = column_encoder.fit_transform(X)\n",
    "X_train, X_test, y_train, y_test = train_test_split(X_encoded, Y, test_size=0.25, random_state=16)\n",
    "\n",
    "# s1= set(X_k_test['Profession'].unique())\n",
    "# s2 = set(X['Profession'].unique())\n",
    "# print('s1-s2', s1.difference(s2))\n",
    "# print('s2-s1' , s2.difference(s1))\n",
    "\n",
    "# instantiate the model (using the default parameters)\n",
    "model = LogisticRegression(random_state=16)\n",
    "# # fit the model with data\n",
    "\n",
    "model.fit(X_train, y_train)\n",
    "# print(X_encoded)\n",
    "# print(X_test)  \n",
    "dump(model, '../models/logistic-features-not-combined-rs-16.joblib')\n",
    "y_pred = model.predict(X_test)\n",
    "report = classification_report(y_test, y_pred)\n",
    "print(report)\n"
   ]
  }
 ],
 "metadata": {
  "kernelspec": {
   "display_name": ".venv",
   "language": "python",
   "name": "python3"
  },
  "language_info": {
   "codemirror_mode": {
    "name": "ipython",
    "version": 3
   },
   "file_extension": ".py",
   "mimetype": "text/x-python",
   "name": "python",
   "nbconvert_exporter": "python",
   "pygments_lexer": "ipython3",
   "version": "3.12.6"
  }
 },
 "nbformat": 4,
 "nbformat_minor": 2
}
