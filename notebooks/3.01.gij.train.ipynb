{
 "cells": [
  {
   "cell_type": "code",
   "execution_count": null,
   "metadata": {},
   "outputs": [],
   "source": [
    "import pandas  as pd\n",
    "import matplotlib.pyplot as plt\n",
    "import numpy as np\n",
    "\n",
    "\n",
    "from sklearn.metrics import classification_report\n",
    "from sklearn.model_selection import train_test_split\n",
    "from sklearn.linear_model import LogisticRegression\n",
    "from health.utils import load_training_data, column_encoder\n",
    "from sklearn.neural_network import MLPClassifier\n",
    "from joblib import dump\n",
    "\n",
    "\n",
    "df = load_training_data('v1')\n",
    "df = df.reset_index(drop=True)\n",
    "df.set_index(['id'])\n",
    "\n",
    "\n",
    "col_len = len(df.columns.to_list())\n",
    "X = df.iloc[:,1:col_len -1]\n",
    "Y = df.iloc[:,col_len-1:]\n",
    "\n"
   ]
  },
  {
   "cell_type": "code",
   "execution_count": null,
   "metadata": {},
   "outputs": [],
   "source": [
    "\n",
    "# Transform the data\n",
    "X_encoded = column_encoder.fit_transform(X)\n",
    "X_train, X_test, y_train, y_test = train_test_split(X_encoded, Y, test_size=0.25, random_state=16)\n",
    "\n",
    "# s1= set(X_k_test['Profession'].unique())\n",
    "# s2 = set(X['Profession'].unique())\n",
    "# print('s1-s2', s1.difference(s2))\n",
    "# print('s2-s1' , s2.difference(s1))\n",
    "\n",
    "# instantiate the model (using the default parameters)\n",
    "model = LogisticRegression(random_state=16)\n",
    "# # fit the model with data\n",
    "\n",
    "model.fit(X_train, y_train)\n",
    "# print(X_encoded)\n",
    "# print(X_test)  \n",
    "dump(model, '../models/logistic-features-not-combined-rs-16.joblib')\n",
    "y_pred = model.predict(X_test)\n",
    "report = classification_report(y_test, y_pred)\n",
    "\n",
    "X_encoded = column_encoder.fit_transform(X)\n",
    "print(report)\n"
   ]
  },
  {
   "cell_type": "code",
   "execution_count": null,
   "metadata": {},
   "outputs": [],
   "source": [
    "clf = MLPClassifier(solver='lbfgs', alpha=1e-5,\n",
    "                    hidden_layer_sizes=(5, 3), random_state=1)\n",
    "\n",
    "X_train, X_test, y_train, y_test = train_test_split(X_encoded, Y, test_size=0.25, random_state=16)\n",
    "clf.fit(X_train, y_train)\n",
    "clf.predict(X_test)\n",
    "dump(clf,'../models/mlp-clf-01.joblib')\n",
    "report = classification_report(y_test, y_pred)\n",
    "print(report)\n"
   ]
  },
  {
   "cell_type": "code",
   "execution_count": null,
   "metadata": {},
   "outputs": [],
   "source": [
    "from sklearn.linear_model import LogisticRegression\n",
    "from sklearn.model_selection import train_test_split\n",
    "from sklearn.pipeline import make_pipeline\n",
    "from sklearn.preprocessing import StandardScaler\n",
    " \n",
    "X_train, X_test, y_train, y_test = train_test_split(X_encoded, Y, random_state=42)\n",
    "pipe = make_pipeline(StandardScaler(), LogisticRegression())\n",
    "pipe.fit(X_train, y_train)  # apply scaling on training data\n",
    "pipe.score(X_test, y_test)  # apply scaling on testing data, without leaking training data."
   ]
  }
 ],
 "metadata": {
  "kernelspec": {
   "display_name": ".venv",
   "language": "python",
   "name": "python3"
  },
  "language_info": {
   "codemirror_mode": {
    "name": "ipython",
    "version": 3
   },
   "file_extension": ".py",
   "mimetype": "text/x-python",
   "name": "python",
   "nbconvert_exporter": "python",
   "pygments_lexer": "ipython3",
   "version": "3.12.6"
  }
 },
 "nbformat": 4,
 "nbformat_minor": 2
}
