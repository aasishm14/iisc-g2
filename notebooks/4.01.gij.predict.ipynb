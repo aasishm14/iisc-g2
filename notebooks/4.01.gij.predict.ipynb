{
 "cells": [
  {
   "cell_type": "code",
   "execution_count": 2,
   "metadata": {},
   "outputs": [
    {
     "name": "stdout",
     "output_type": "stream",
     "text": [
      "<class 'pandas.core.frame.DataFrame'>\n",
      "RangeIndex: 93800 entries, 0 to 93799\n",
      "Data columns (total 18 columns):\n",
      " #   Column                                 Non-Null Count  Dtype  \n",
      "---  ------                                 --------------  -----  \n",
      " 0   id                                     93800 non-null  int64  \n",
      " 1   Gender                                 93800 non-null  object \n",
      " 2   Age                                    93800 non-null  float64\n",
      " 3   City                                   93800 non-null  object \n",
      " 4   Working Professional or Student        93800 non-null  object \n",
      " 5   Profession                             93800 non-null  object \n",
      " 6   Academic Pressure                      18767 non-null  float64\n",
      " 7   Work Pressure                          75022 non-null  float64\n",
      " 8   CGPA                                   93800 non-null  float64\n",
      " 9   Study Satisfaction                     18767 non-null  float64\n",
      " 10  Job Satisfaction                       75026 non-null  float64\n",
      " 11  Sleep Duration                         93800 non-null  float64\n",
      " 12  Dietary Habits                         93800 non-null  object \n",
      " 13  Degree                                 93800 non-null  object \n",
      " 14  Have you ever had suicidal thoughts ?  93800 non-null  object \n",
      " 15  Work/Study Hours                       93800 non-null  float64\n",
      " 16  Financial Stress                       93800 non-null  float64\n",
      " 17  Family History of Mental Illness       93800 non-null  object \n",
      "dtypes: float64(9), int64(1), object(8)\n",
      "memory usage: 12.9+ MB\n",
      "None\n",
      "<class 'pandas.core.frame.DataFrame'>\n",
      "Index: 125000 entries, 0 to 24999\n",
      "Data columns (total 19 columns):\n",
      " #   Column                                 Non-Null Count   Dtype  \n",
      "---  ------                                 --------------   -----  \n",
      " 0   id                                     125000 non-null  int64  \n",
      " 1   Gender                                 125000 non-null  object \n",
      " 2   Age                                    125000 non-null  float64\n",
      " 3   City                                   125000 non-null  object \n",
      " 4   Working Professional or Student        125000 non-null  object \n",
      " 5   Profession                             125000 non-null  object \n",
      " 6   Academic Pressure                      24813 non-null   float64\n",
      " 7   Work Pressure                          100170 non-null  float64\n",
      " 8   CGPA                                   125000 non-null  float64\n",
      " 9   Study Satisfaction                     24812 non-null   float64\n",
      " 10  Job Satisfaction                       100175 non-null  float64\n",
      " 11  Sleep Duration                         125000 non-null  float64\n",
      " 12  Dietary Habits                         125000 non-null  object \n",
      " 13  Degree                                 125000 non-null  object \n",
      " 14  Have you ever had suicidal thoughts ?  125000 non-null  object \n",
      " 15  Work/Study Hours                       125000 non-null  float64\n",
      " 16  Financial Stress                       124996 non-null  float64\n",
      " 17  Family History of Mental Illness       125000 non-null  object \n",
      " 18  Depression                             125000 non-null  int64  \n",
      "dtypes: float64(9), int64(2), object(8)\n",
      "memory usage: 19.1+ MB\n",
      "None\n"
     ]
    }
   ],
   "source": [
    "\n",
    "import joblib\n",
    "import pandas  as pd\n",
    "from joblib import load\n",
    "from health.utils import  column_encoder,load_trimaing_data,STR_COLS,CLEANED_DTYPES\n",
    "\n",
    "train = load_trimaing_data()\n",
    "\n",
    "K_test = pd.read_csv('../data/processed/kaggle-test.csv',dtype=CLEANED_DTYPES)\n",
    "# print(K_test.describe())\n",
    "\n",
    "print(K_test.info())\n",
    "print(train.info())"
   ]
  },
  {
   "cell_type": "code",
   "execution_count": 3,
   "metadata": {},
   "outputs": [
    {
     "name": "stdout",
     "output_type": "stream",
     "text": [
      "Gender set() set()\n",
      "Age set() {32.08}\n",
      "City set() set()\n",
      "Working Professional or Student set() set()\n",
      "Profession set() set()\n",
      "Academic Pressure {nan} {nan}\n",
      "Work Pressure {nan} {nan}\n",
      "CGPA set() set()\n",
      "Study Satisfaction {nan} {nan}\n",
      "Job Satisfaction {nan} {nan}\n",
      "Sleep Duration set() {9.5}\n",
      "Dietary Habits set() set()\n",
      "Degree set() set()\n",
      "Have you ever had suicidal thoughts ? set() set()\n",
      "Work/Study Hours set() set()\n",
      "Financial Stress {nan} set()\n",
      "Family History of Mental Illness set() set()\n"
     ]
    }
   ],
   "source": [
    "all_cols = K_test.columns.to_list()\n",
    "all_cols.remove('id')\n",
    "for col in all_cols: \n",
    "    s1 = set(train[col].unique())\n",
    "    s2 = set(K_test[col].unique())\n",
    "    print(col,s1.difference(s2),s2.difference(s1))"
   ]
  },
  {
   "cell_type": "code",
   "execution_count": null,
   "metadata": {},
   "outputs": [],
   "source": [
    "\n",
    "\n",
    "K_encoded = column_encoder.fit_transform(K_test)\n",
    "model = load('../models/logistic-features-not-combined-rs-16.joblib')\n",
    "y_pred = model.predict(K_encoded)\n",
    "result = pd.DataFrame({\n",
    "            'id': K_test['id'],\n",
    "            'Depression': y_pred\n",
    "            })\n",
    "result.to_csv('../data/kaggle-output.csv',index=False)"
   ]
  }
 ],
 "metadata": {
  "kernelspec": {
   "display_name": ".venv",
   "language": "python",
   "name": "python3"
  },
  "language_info": {
   "codemirror_mode": {
    "name": "ipython",
    "version": 3
   },
   "file_extension": ".py",
   "mimetype": "text/x-python",
   "name": "python",
   "nbconvert_exporter": "python",
   "pygments_lexer": "ipython3",
   "version": "3.12.6"
  }
 },
 "nbformat": 4,
 "nbformat_minor": 2
}
