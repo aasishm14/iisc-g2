{
 "cells": [
  {
   "cell_type": "code",
   "execution_count": null,
   "metadata": {},
   "outputs": [],
   "source": [
    "\n",
    "import joblib\n",
    "import pandas  as pd\n",
    "import os\n",
    "from joblib import load\n",
    "from health.utils import  list_files, column_encoder,load_training_data,STR_COLS,CLEANED_DTYPES\n",
    "\n",
    "train = load_training_data('v1')\n",
    "\n",
    "K_test = pd.read_csv('../data/processed/kaggle-test.csv',dtype=CLEANED_DTYPES)\n",
    "# print(K_test.describe())\n",
    "\n",
    "print(K_test.info())\n",
    "print(train.info())"
   ]
  },
  {
   "cell_type": "code",
   "execution_count": null,
   "metadata": {},
   "outputs": [],
   "source": [
    "all_cols = K_test.columns.to_list()\n",
    "all_cols.remove('id')\n",
    "for col in all_cols: \n",
    "    s1 = set(train[col].unique())\n",
    "    s2 = set(K_test[col].unique())\n",
    "    print(col,s1.difference(s2),s2.difference(s1))"
   ]
  },
  {
   "cell_type": "code",
   "execution_count": 18,
   "metadata": {},
   "outputs": [],
   "source": [
    "\n",
    "\n",
    "m_list = list_files('../models')\n",
    "K_encoded = column_encoder.fit_transform(K_test)\n",
    "\n",
    "for f in m_list:\n",
    "\n",
    "    # name = os.path.basename(f)\n",
    "    if ( not('.joblib' in f)):\n",
    "        continue\n",
    "     \n",
    "    name = os.path.basename(f)\n",
    "    model = load(f)\n",
    "    y_pred = model.predict(K_encoded)\n",
    "    \n",
    "    result = pd.DataFrame({\n",
    "            'filename=filename=id': K_test['id'],\n",
    "            'Depression': y_pred\n",
    "            })\n",
    "    result.to_csv(f'../data/kaggle-out-{name}.csv',index=False)"
   ]
  },
  {
   "cell_type": "code",
   "execution_count": 6,
   "metadata": {},
   "outputs": [],
   "source": [
    " "
   ]
  }
 ],
 "metadata": {
  "kernelspec": {
   "display_name": ".venv",
   "language": "python",
   "name": "python3"
  },
  "language_info": {
   "codemirror_mode": {
    "name": "ipython",
    "version": 3
   },
   "file_extension": ".py",
   "mimetype": "text/x-python",
   "name": "python",
   "nbconvert_exporter": "python",
   "pygments_lexer": "ipython3",
   "version": "3.12.6"
  }
 },
 "nbformat": 4,
 "nbformat_minor": 2
}
