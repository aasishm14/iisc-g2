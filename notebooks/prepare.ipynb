{
 "cells": [
  {
   "cell_type": "code",
   "execution_count": 38,
   "metadata": {},
   "outputs": [
    {
     "name": "stdout",
     "output_type": "stream",
     "text": [
      "0 14999\n",
      "15000 29999\n",
      "30000 44999\n",
      "45000 59999\n",
      "60000 74999\n",
      "75000 89999\n",
      "90000 104999\n",
      "105000 119999\n",
      "120000 134999\n",
      "135000 140699\n"
     ]
    }
   ],
   "source": [
    "%matplotlib inline\n",
    "import pandas  as pd\n",
    "import matplotlib.pyplot as plt\n",
    "import numpy as np\n",
    "import math\n",
    "\n",
    "%reload_ext autoreload\n",
    "%autoreload 2\n",
    "\n",
    "df = pd.read_csv(\"../data/external/train.csv\")\n",
    "max = len(df)\n",
    "num_rows =15e3\n",
    "total =  math.ceil(max/num_rows)\n",
    "\n",
    "for idx in range(0,total):\n",
    "    end = math.floor(min(max, ((idx+1) * num_rows)) -1)\n",
    "    start = math.floor(idx*num_rows)\n",
    "    print(start,end)\n",
    "    part = df.loc[start: end]\n",
    "    if (end == max -1) :\n",
    "        part.to_csv(f\"../data/interim/test.csv\")\n",
    "    else :\n",
    "        part.to_csv(f\"../data/interim/train-{idx}.csv\")\n",
    "\n"
   ]
  }
 ],
 "metadata": {
  "kernelspec": {
   "display_name": ".venv",
   "language": "python",
   "name": "python3"
  },
  "language_info": {
   "codemirror_mode": {
    "name": "ipython",
    "version": 3
   },
   "file_extension": ".py",
   "mimetype": "text/x-python",
   "name": "python",
   "nbconvert_exporter": "python",
   "pygments_lexer": "ipython3",
   "version": "3.12.6"
  }
 },
 "nbformat": 4,
 "nbformat_minor": 2
}
