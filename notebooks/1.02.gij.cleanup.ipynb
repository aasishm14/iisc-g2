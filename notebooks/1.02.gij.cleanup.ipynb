{
 "cells": [
  {
   "cell_type": "code",
   "execution_count": 2,
   "metadata": {},
   "outputs": [
    {
     "name": "stderr",
     "output_type": "stream",
     "text": [
      "\u001b[32m2024-11-18 20:29:24.916\u001b[0m | \u001b[1mINFO    \u001b[0m | \u001b[36mhealth.config\u001b[0m:\u001b[36m<module>\u001b[0m:\u001b[36m11\u001b[0m - \u001b[1mPROJ_ROOT path is: /Users/ceegees/workspace/iisc-learning/are-you-depressed\u001b[0m\n"
     ]
    },
    {
     "data": {
      "text/plain": [
       "'\\nColumn Names\\n,id,\\nName,\\nGender,\\nAge,\\nCity,\\nWorking Professional or Student,\\nProfession,\\nAcademic Pressure,\\nWork Pressure,\\nCGPA,\\nStudy Satisfaction,\\nJob Satisfaction,\\nSleep Duration,\\nDietary Habits,\\nDegree,\\nHave you ever had suicidal thoughts ?,\\nWork/Study Hours,\\nFinancial Stress,\\nFamily History of Mental Illness,\\nDepression\\n\\n'"
      ]
     },
     "execution_count": 2,
     "metadata": {},
     "output_type": "execute_result"
    }
   ],
   "source": [
    "# %matplotlib inline\n",
    "import pandas  as pd  \n",
    "import numpy as np\n",
    "import re\n",
    "import math\n",
    "import os;\n",
    "import sys;\n",
    "  \n",
    "from health.utils import list_files,slugify, ALLOWED_COLS\n",
    "\n",
    "%reload_ext autoreload\n",
    "%autoreload 2\n",
    "\n",
    "\n",
    "TARGET='Depression'\n",
    "\n",
    "\"\"\"\n",
    "Column Names\n",
    ",id,\n",
    "Name,\n",
    "Gender,\n",
    "Age,\n",
    "City,\n",
    "Working Professional or Student,\n",
    "Profession,\n",
    "Academic Pressure,\n",
    "Work Pressure,\n",
    "CGPA,\n",
    "Study Satisfaction,\n",
    "Job Satisfaction,\n",
    "Sleep Duration,\n",
    "Dietary Habits,\n",
    "Degree,\n",
    "Have you ever had suicidal thoughts ?,\n",
    "Work/Study Hours,\n",
    "Financial Stress,\n",
    "Family History of Mental Illness,\n",
    "Depression\n",
    "\n",
    "\"\"\"\n",
    "\n",
    "\n"
   ]
  },
  {
   "cell_type": "markdown",
   "metadata": {},
   "source": [
    "Cleans up the columns from raw data to generate processed data\n",
    "Iterate through all folders in the raw folder and generates corresponding cleaned files in the\n",
    "\n",
    "Actions done\n",
    "1. Cleans up CGPA to buckets\n",
    "2. Cleans up Sleep Duration\n",
    "3. Cleans up values for City, Degree,Dietary Habits, Profession"
   ]
  },
  {
   "cell_type": "code",
   "execution_count": 3,
   "metadata": {},
   "outputs": [],
   "source": [
    "\n",
    "def cleanup_CGPA(val):\n",
    "    # if isinstance(float(val),float):\n",
    "    #     return math.floor(float(val)*10)/10\n",
    "    num_val = float(val)\n",
    "    if math.isnan(num_val) or val == \"\":\n",
    "        return -1\n",
    "    return math.floor(float(num_val) * 10) / 10\n"
   ]
  },
  {
   "cell_type": "markdown",
   "metadata": {},
   "source": [
    "Cleans up random sleep values to a number and default to 6 hours of sleep"
   ]
  },
  {
   "cell_type": "code",
   "execution_count": 4,
   "metadata": {},
   "outputs": [],
   "source": [
    "\n",
    "two_digit_pattern = r\"(\\d+){1}\\s*[^\\d]{1}+(\\d+)\"\n",
    "single_number_pattern = r\".*([\\d]{2})\"\n",
    "\n",
    "def cleanup_sleep(sleep):\n",
    "    if sleep == \"More than 8 hours\":\n",
    "        return 8\n",
    "    elif sleep == \"Less than 5 hours\":\n",
    "        return 4.5\n",
    "    elif sleep == \"Moderate\":\n",
    "        return 6\n",
    "    elif re.match(two_digit_pattern, sleep):\n",
    "        matches = re.findall(two_digit_pattern, sleep)\n",
    "        num1, num2 = matches[0]\n",
    "        # return sleep\n",
    "        total = (int(num1) + int(num2)) / 2\n",
    "        if total < 10:\n",
    "            return total\n",
    "        return 6\n",
    "\n",
    "    else:\n",
    "        # print('Sleep non confirmant value', sleep)\n",
    "        # raise Exception(f'Invalid value for sleep duration {sleep}')\n",
    "        return 6\n"
   ]
  },
  {
   "cell_type": "markdown",
   "metadata": {},
   "source": [
    "Cleanup with an allowed list of values to remove error data ,everything not found is bucketed to other or a default value"
   ]
  },
  {
   "cell_type": "code",
   "execution_count": 5,
   "metadata": {},
   "outputs": [],
   "source": [
    "\n",
    "\n",
    "def cleanup_with_list(name, allowed=[]):\n",
    "    res = allowed[allowed[\"name\"] == name]\n",
    "    # if (!res) :\n",
    "    if len(res) > 0:\n",
    "        return name\n",
    "    default = allowed[allowed[\"count\"] == 0] \n",
    "    lst = default['name'][0:1].to_list()\n",
    "    return lst[0]\n"
   ]
  },
  {
   "cell_type": "code",
   "execution_count": 8,
   "metadata": {},
   "outputs": [
    {
     "name": "stdout",
     "output_type": "stream",
     "text": [
      "File /Users/ceegees/workspace/iisc-learning/are-you-depressed/data/raw/kaggle-test.csv already exists\n",
      "File /Users/ceegees/workspace/iisc-learning/are-you-depressed/data/raw/test.csv already exists\n",
      "File /Users/ceegees/workspace/iisc-learning/are-you-depressed/data/raw/train-4.csv already exists\n",
      "File /Users/ceegees/workspace/iisc-learning/are-you-depressed/data/raw/train-0.csv already exists\n",
      "File /Users/ceegees/workspace/iisc-learning/are-you-depressed/data/raw/train-1.csv already exists\n",
      "processing '/Users/ceegees/workspace/iisc-learning/are-you-depressed/data/raw/train-3.csv' \n",
      "reading ../data/interim/city.csv\n",
      "reading ../data/interim/profession.csv\n",
      "reading ../data/interim/dietary-habits.csv\n",
      "reading ../data/interim/degree.csv\n",
      "Completed '/Users/ceegees/workspace/iisc-learning/are-you-depressed/data/raw/train-3.csv' \n",
      "processing '/Users/ceegees/workspace/iisc-learning/are-you-depressed/data/raw/train-2.csv' \n",
      "reading ../data/interim/city.csv\n",
      "reading ../data/interim/profession.csv\n",
      "reading ../data/interim/dietary-habits.csv\n",
      "reading ../data/interim/degree.csv\n",
      "Completed '/Users/ceegees/workspace/iisc-learning/are-you-depressed/data/raw/train-2.csv' \n"
     ]
    }
   ],
   "source": [
    "def cleanup(val, col, allowed=[]):\n",
    "\n",
    "    if col == \"CGPA\":\n",
    "        return cleanup_CGPA(val)\n",
    "    elif col == \"Sleep Duration\":\n",
    "        return cleanup_sleep(val)\n",
    "    elif len(allowed) > 0:\n",
    "        return cleanup_with_list(val, allowed)\n",
    "    else:\n",
    "        return val\n",
    "\n",
    "\n",
    "def clean_data(input, column_names):\n",
    "    result = pd.DataFrame()\n",
    "    result[\"id\"] = input[\"id\"]\n",
    "    for col in column_names:\n",
    "        try:\n",
    "            sl = slugify(col)\n",
    "            allowed = []\n",
    "            allowed_file = f\"../data/interim/{sl}.csv\"\n",
    "            if os.path.isfile(allowed_file):\n",
    "                print(f\"reading {allowed_file}\")\n",
    "                allowed = pd.read_csv(filepath_or_buffer=allowed_file)\n",
    "                # print('Checking vals : ',allowed)\n",
    "            result[col] = input[col].apply(lambda x: cleanup(x, col, allowed=allowed))\n",
    "            # break\n",
    "        except Exception as err:\n",
    "            print(\"error occured\", err)\n",
    "    return result\n",
    "\n",
    "\n",
    "\n",
    "def clean_all_files():\n",
    "    raw_files = list_files(\"../data/raw\")\n",
    "     \n",
    "    for f in raw_files:\n",
    "        if not (\".csv\" in f):\n",
    "            continue\n",
    "\n",
    "        target = f.replace(\"/raw/\", \"/processed/\")\n",
    "        if (os.path.isfile(target)):\n",
    "            print(f\"File {f} already exists\")\n",
    "            continue;\n",
    "        print(f\"processing '{f}' \")\n",
    "        df = pd.read_csv(\n",
    "            f, dtype={\"Depression\": str, \"CGPA\": str, \"Sleep Duration\": str}\n",
    "        )\n",
    "        column_names = df.keys().to_list()\n",
    "        column_names.remove(\"id\")\n",
    "        column_names.remove(\"Name\")\n",
    "        result = clean_data(df, column_names) \n",
    "        result.to_csv(target)\n",
    "        print(f\"Completed '{f}' \") \n",
    "\n",
    "clean_all_files()"
   ]
  }
 ],
 "metadata": {
  "kernelspec": {
   "display_name": ".venv",
   "language": "python",
   "name": "python3"
  },
  "language_info": {
   "codemirror_mode": {
    "name": "ipython",
    "version": 3
   },
   "file_extension": ".py",
   "mimetype": "text/x-python",
   "name": "python",
   "nbconvert_exporter": "python",
   "pygments_lexer": "ipython3",
   "version": "3.12.6"
  }
 },
 "nbformat": 4,
 "nbformat_minor": 2
}
